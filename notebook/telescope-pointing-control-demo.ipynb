{
 "cells": [
  {
   "cell_type": "markdown",
   "metadata": {},
   "source": [
    "This notebook demonstrates basic usage of firefly_client API with action loistener and controlingn telescope with INDI python client and KStars.\n",
    "\n",
    "Note that it may be necessary to wait for some cells (like those displaying an image) to complete before executing later cells."
   ]
  },
  {
   "cell_type": "markdown",
   "metadata": {},
   "source": [
    "## Setup"
   ]
  },
  {
   "cell_type": "markdown",
   "metadata": {},
   "source": [
    "Imports for Python 2/3 compatibility"
   ]
  },
  {
   "cell_type": "code",
   "execution_count": 68,
   "metadata": {},
   "outputs": [],
   "source": [
    "from __future__ import print_function, division, absolute_import"
   ]
  },
  {
   "cell_type": "markdown",
   "metadata": {},
   "source": [
    "Imports for firefly_client"
   ]
  },
  {
   "cell_type": "code",
   "execution_count": 69,
   "metadata": {},
   "outputs": [],
   "source": [
    "from firefly_client import FireflyClient"
   ]
  },
  {
   "cell_type": "markdown",
   "metadata": {},
   "source": [
    "In this example we use the firefly application for the server, use IP host if problems of printing coords"
   ]
  },
  {
   "cell_type": "code",
   "execution_count": 70,
   "metadata": {},
   "outputs": [],
   "source": [
    "url='http://luke.ipac.caltech.edu:8080/firefly'"
   ]
  },
  {
   "cell_type": "markdown",
   "metadata": {},
   "source": [
    "Instantiate `FireflyClient`."
   ]
  },
  {
   "cell_type": "code",
   "execution_count": 71,
   "metadata": {},
   "outputs": [],
   "source": [
    "fc = FireflyClient(url)"
   ]
  },
  {
   "cell_type": "markdown",
   "metadata": {},
   "source": [
    "## Download some data"
   ]
  },
  {
   "cell_type": "markdown",
   "metadata": {},
   "source": [
    "Download a sample image and table.\n",
    "\n",
    "We use astropy here for convenience, but firefly_client itself does not depend on astropy."
   ]
  },
  {
   "cell_type": "code",
   "execution_count": 72,
   "metadata": {},
   "outputs": [],
   "source": [
    "import astropy.utils.data"
   ]
  },
  {
   "cell_type": "markdown",
   "metadata": {},
   "source": [
    "Download a cutout of a WISE band 1 image."
   ]
  },
  {
   "cell_type": "code",
   "execution_count": 73,
   "metadata": {},
   "outputs": [],
   "source": [
    "image_url = ('http://irsa.ipac.caltech.edu/ibe/data/wise/allsky/4band_p1bm_frm/6a/02206a' + \n",
    "             '/149/02206a149-w1-int-1b.fits?center=70,20&size=200pix')\n",
    "filename = astropy.utils.data.download_file(image_url, cache=True, timeout=120)"
   ]
  },
  {
   "cell_type": "markdown",
   "metadata": {},
   "source": [
    "Download a 2MASS catalog"
   ]
  },
  {
   "cell_type": "code",
   "execution_count": 74,
   "metadata": {},
   "outputs": [],
   "source": [
    "table_url = (\"http://irsa.ipac.caltech.edu/TAP/sync?FORMAT=IPAC_TABLE&\" +\n",
    "                                             \"QUERY=SELECT+*+FROM+fp_psc+WHERE+CONTAINS(POINT('J2000',ra,dec),\" +\n",
    "                                             \"CIRCLE('J2000',70.0,20.0,0.1))=1\")\n",
    "tablename = astropy.utils.data.download_file(table_url, timeout=120, cache=True)"
   ]
  },
  {
   "cell_type": "markdown",
   "metadata": {},
   "source": [
    "## Display tables and catalogs"
   ]
  },
  {
   "cell_type": "markdown",
   "metadata": {},
   "source": [
    "Open a browser to the firefly server in a new tab. The browser open only works when running the notebook locally, otherwise a link is displayed."
   ]
  },
  {
   "cell_type": "code",
   "execution_count": 75,
   "metadata": {},
   "outputs": [],
   "source": [
    "localbrowser, browser_url = fc.launch_browser()"
   ]
  },
  {
   "cell_type": "markdown",
   "metadata": {},
   "source": [
    "Display the web browser link"
   ]
  },
  {
   "cell_type": "code",
   "execution_count": 76,
   "metadata": {},
   "outputs": [
    {
     "data": {
      "text/html": [
       "Open your web browser to <a href=\"http://luke.ipac.caltech.edu:8080/firefly?__wsch=56591d14-a75a-11e9-91ae-985aebd6455f\"\" target=\"_blank\">this link</a>"
      ],
      "text/plain": [
       "<IPython.core.display.HTML object>"
      ]
     },
     "metadata": {},
     "output_type": "display_data"
    }
   ],
   "source": [
    "fc.display_url()"
   ]
  },
  {
   "cell_type": "markdown",
   "metadata": {},
   "source": [
    "Alternatively, uncomment the lines below to display the browser application in the notebook."
   ]
  },
  {
   "cell_type": "code",
   "execution_count": 77,
   "metadata": {},
   "outputs": [],
   "source": [
    "#from IPython.display import IFrame\n",
    "#print('url: %s' % fc.get_firefly_url())\n",
    "#IFrame(fc.get_firefly_url(), 1100, 1000)"
   ]
  },
  {
   "cell_type": "markdown",
   "metadata": {},
   "source": [
    "A local file can be uploaded to the server and then displayed."
   ]
  },
  {
   "cell_type": "code",
   "execution_count": 78,
   "metadata": {},
   "outputs": [],
   "source": [
    "imval = fc.upload_file(filename)\n",
    "status = fc.show_fits(file_on_server=imval, plot_id=\"wise-cutout\", title='WISE Cutout')"
   ]
  },
  {
   "cell_type": "markdown",
   "metadata": {},
   "source": [
    "`show_fits` can also display an image from a URL"
   ]
  },
  {
   "cell_type": "code",
   "execution_count": 79,
   "metadata": {},
   "outputs": [],
   "source": [
    "#status = fc.show_fits(file_on_server=None, plot_id=\"wise-fullimage\", \n",
    "#                      URL='http://irsa.ipac.caltech.edu/ibe/data/wise/allsky/4band_p1bm_frm/6a/02206a' + \n",
    "#             '/149/02206a149-w1-int-1b.fits')"
   ]
  },
  {
   "cell_type": "markdown",
   "metadata": {},
   "source": [
    "A catalog (with coordinates) will overlay the image by default."
   ]
  },
  {
   "cell_type": "code",
   "execution_count": 80,
   "metadata": {},
   "outputs": [],
   "source": [
    "file= fc.upload_file(tablename)\n",
    "status = fc.show_table(file, tbl_id='tablemass', title='My 2MASS Catalog', page_size=50)"
   ]
  },
  {
   "cell_type": "markdown",
   "metadata": {},
   "source": [
    "An xy plot can be added using the uploaded table data.\n",
    "\n",
    "Next, add control of the telescope selecting target by clicking (printing coords for now) via an action listener. - to see the widget \"print coords\" , check \"lock-by-click\""
   ]
  },
  {
   "cell_type": "code",
   "execution_count": 88,
   "metadata": {},
   "outputs": [
    {
     "data": {
      "text/plain": [
       "{'success': True}"
      ]
     },
     "execution_count": 88,
     "metadata": {},
     "output_type": "execute_result"
    }
   ],
   "source": [
    "import json, subprocess\n",
    "\n",
    "def pointTelescope(ra,dec):\n",
    "    # write out json config - to take exposure with INDI client\n",
    "    configindi = {'star': {'ra':ra, 'dec':dec, 'name':'test'}}\n",
    "    with open('firefly-wpt-selected.json', 'w') as outfile:  \n",
    "        json.dump(configindi, outfile)\n",
    "    subprocess.call([\"python3\",\"takeExposure.py\",\"firefly-wpt-selected.json\"])\n",
    "    \n",
    "def print_coords(event):\n",
    "    if 'wpt' in event['data']:\n",
    "       wpt = event['data']['wpt']\n",
    "       wdata = wpt.split(';')\n",
    "       ra = float(wdata[0])\n",
    "       dec = float(wdata[1])\n",
    "       print('Selected ra={:.6f}, dec={:.6f}'.format(ra,dec))\n",
    "#       with open('event.json', 'w') as outfile:  \n",
    "#           json.dump(event['data'], outfile)\n",
    "       pointTelescope(wdata[0],wdata[1])\n",
    "    \n",
    "fc.add_listener(print_coords)\n",
    "\n",
    "fc.add_extension(ext_type='POINT', plot_id=None, title='Take Exposure!',\n",
    "                 extension_id='pickit')"
   ]
  },
  {
   "cell_type": "markdown",
   "metadata": {},
   "source": [
    "Zoom the full image."
   ]
  },
  {
   "cell_type": "code",
   "execution_count": null,
   "metadata": {},
   "outputs": [],
   "source": [
    "status = fc.set_zoom('wise-fullimage', 2)"
   ]
  },
  {
   "cell_type": "markdown",
   "metadata": {},
   "source": [
    "Pan the image to a celestial coordinate."
   ]
  },
  {
   "cell_type": "code",
   "execution_count": null,
   "metadata": {},
   "outputs": [],
   "source": [
    "status = fc.set_pan('wise-fullimage', 70, 20, coord='J2000')"
   ]
  },
  {
   "cell_type": "code",
   "execution_count": null,
   "metadata": {},
   "outputs": [],
   "source": [
    "fc.display_url()"
   ]
  },
  {
   "cell_type": "code",
   "execution_count": 83,
   "metadata": {},
   "outputs": [],
   "source": [
    "# Test config json file \n",
    "import time\n",
    "import sys, json\n",
    "json_text=open('firefly-wpt-selected.json')\n",
    "config=json.load(json_text)"
   ]
  },
  {
   "cell_type": "code",
   "execution_count": 84,
   "metadata": {},
   "outputs": [
    {
     "name": "stdout",
     "output_type": "stream",
     "text": [
      "{'ra': '69.95358811726766', 'dec': '19.939310133213485', 'name': 'test'}\n",
      "RA, DEC of 'star' is  69.95358811726766 19.939310133213485\n",
      "test\n",
      "69.95358811726766\n"
     ]
    }
   ],
   "source": [
    "print(config['star'])\n",
    "print(\"RA, DEC of 'star' is \", config['star']['ra'], config['star']['dec'])\n",
    "print(config['star']['name'])\n",
    "star = config['star']\n",
    "print(star['ra'])"
   ]
  },
  {
   "cell_type": "code",
   "execution_count": null,
   "metadata": {},
   "outputs": [],
   "source": []
  }
 ],
 "metadata": {
  "anaconda-cloud": {},
  "kernelspec": {
   "display_name": "Python 3",
   "language": "python",
   "name": "python3"
  },
  "language_info": {
   "codemirror_mode": {
    "name": "ipython",
    "version": 3
   },
   "file_extension": ".py",
   "mimetype": "text/x-python",
   "name": "python",
   "nbconvert_exporter": "python",
   "pygments_lexer": "ipython3",
   "version": "3.7.0"
  }
 },
 "nbformat": 4,
 "nbformat_minor": 2
}
